{
 "cells": [
  {
   "cell_type": "code",
   "execution_count": 1,
   "id": "thirty-environment",
   "metadata": {},
   "outputs": [],
   "source": [
    "# Importing Necessary Libraries\n",
    "\n",
    "import pandas as pd\n",
    "import numpy as np\n",
    "import matplotlib.pyplot as plt\n",
    "%matplotlib inline\n",
    "import seaborn as sns"
   ]
  },
  {
   "cell_type": "code",
   "execution_count": 2,
   "id": "transparent-lighting",
   "metadata": {},
   "outputs": [
    {
     "data": {
      "text/html": [
       "<div>\n",
       "<style scoped>\n",
       "    .dataframe tbody tr th:only-of-type {\n",
       "        vertical-align: middle;\n",
       "    }\n",
       "\n",
       "    .dataframe tbody tr th {\n",
       "        vertical-align: top;\n",
       "    }\n",
       "\n",
       "    .dataframe thead th {\n",
       "        text-align: right;\n",
       "    }\n",
       "</style>\n",
       "<table border=\"1\" class=\"dataframe\">\n",
       "  <thead>\n",
       "    <tr style=\"text-align: right;\">\n",
       "      <th></th>\n",
       "      <th>User_ID</th>\n",
       "      <th>Product_ID</th>\n",
       "      <th>Gender</th>\n",
       "      <th>Age</th>\n",
       "      <th>Occupation</th>\n",
       "      <th>City_Category</th>\n",
       "      <th>Stay_In_Current_City_Years</th>\n",
       "      <th>Marital_Status</th>\n",
       "      <th>Product_Category_1</th>\n",
       "      <th>Product_Category_2</th>\n",
       "      <th>Product_Category_3</th>\n",
       "      <th>Purchase</th>\n",
       "    </tr>\n",
       "  </thead>\n",
       "  <tbody>\n",
       "    <tr>\n",
       "      <th>0</th>\n",
       "      <td>1000001</td>\n",
       "      <td>P00069042</td>\n",
       "      <td>F</td>\n",
       "      <td>0-17</td>\n",
       "      <td>10</td>\n",
       "      <td>A</td>\n",
       "      <td>2</td>\n",
       "      <td>0</td>\n",
       "      <td>3</td>\n",
       "      <td>NaN</td>\n",
       "      <td>NaN</td>\n",
       "      <td>8370</td>\n",
       "    </tr>\n",
       "    <tr>\n",
       "      <th>1</th>\n",
       "      <td>1000001</td>\n",
       "      <td>P00248942</td>\n",
       "      <td>F</td>\n",
       "      <td>0-17</td>\n",
       "      <td>10</td>\n",
       "      <td>A</td>\n",
       "      <td>2</td>\n",
       "      <td>0</td>\n",
       "      <td>1</td>\n",
       "      <td>6.0</td>\n",
       "      <td>14.0</td>\n",
       "      <td>15200</td>\n",
       "    </tr>\n",
       "    <tr>\n",
       "      <th>2</th>\n",
       "      <td>1000001</td>\n",
       "      <td>P00087842</td>\n",
       "      <td>F</td>\n",
       "      <td>0-17</td>\n",
       "      <td>10</td>\n",
       "      <td>A</td>\n",
       "      <td>2</td>\n",
       "      <td>0</td>\n",
       "      <td>12</td>\n",
       "      <td>NaN</td>\n",
       "      <td>NaN</td>\n",
       "      <td>1422</td>\n",
       "    </tr>\n",
       "    <tr>\n",
       "      <th>3</th>\n",
       "      <td>1000001</td>\n",
       "      <td>P00085442</td>\n",
       "      <td>F</td>\n",
       "      <td>0-17</td>\n",
       "      <td>10</td>\n",
       "      <td>A</td>\n",
       "      <td>2</td>\n",
       "      <td>0</td>\n",
       "      <td>12</td>\n",
       "      <td>14.0</td>\n",
       "      <td>NaN</td>\n",
       "      <td>1057</td>\n",
       "    </tr>\n",
       "    <tr>\n",
       "      <th>4</th>\n",
       "      <td>1000002</td>\n",
       "      <td>P00285442</td>\n",
       "      <td>M</td>\n",
       "      <td>55+</td>\n",
       "      <td>16</td>\n",
       "      <td>C</td>\n",
       "      <td>4+</td>\n",
       "      <td>0</td>\n",
       "      <td>8</td>\n",
       "      <td>NaN</td>\n",
       "      <td>NaN</td>\n",
       "      <td>7969</td>\n",
       "    </tr>\n",
       "  </tbody>\n",
       "</table>\n",
       "</div>"
      ],
      "text/plain": [
       "   User_ID Product_ID Gender   Age  Occupation City_Category  \\\n",
       "0  1000001  P00069042      F  0-17          10             A   \n",
       "1  1000001  P00248942      F  0-17          10             A   \n",
       "2  1000001  P00087842      F  0-17          10             A   \n",
       "3  1000001  P00085442      F  0-17          10             A   \n",
       "4  1000002  P00285442      M   55+          16             C   \n",
       "\n",
       "  Stay_In_Current_City_Years  Marital_Status  Product_Category_1  \\\n",
       "0                          2               0                   3   \n",
       "1                          2               0                   1   \n",
       "2                          2               0                  12   \n",
       "3                          2               0                  12   \n",
       "4                         4+               0                   8   \n",
       "\n",
       "   Product_Category_2  Product_Category_3  Purchase  \n",
       "0                 NaN                 NaN      8370  \n",
       "1                 6.0                14.0     15200  \n",
       "2                 NaN                 NaN      1422  \n",
       "3                14.0                 NaN      1057  \n",
       "4                 NaN                 NaN      7969  "
      ]
     },
     "execution_count": 2,
     "metadata": {},
     "output_type": "execute_result"
    }
   ],
   "source": [
    "df = pd.read_csv('Problem Statement - Dimentionality Reduction-Dataset.csv')\n",
    "df.head()"
   ]
  },
  {
   "cell_type": "markdown",
   "id": "different-bundle",
   "metadata": {},
   "source": [
    "# Lets do some EDA and prepare our dataset for model buiding."
   ]
  },
  {
   "cell_type": "code",
   "execution_count": 3,
   "id": "executive-update",
   "metadata": {},
   "outputs": [
    {
     "data": {
      "text/plain": [
       "(550068, 12)"
      ]
     },
     "execution_count": 3,
     "metadata": {},
     "output_type": "execute_result"
    }
   ],
   "source": [
    "df.shape"
   ]
  },
  {
   "cell_type": "code",
   "execution_count": 4,
   "id": "occupied-least",
   "metadata": {},
   "outputs": [
    {
     "data": {
      "text/html": [
       "<div>\n",
       "<style scoped>\n",
       "    .dataframe tbody tr th:only-of-type {\n",
       "        vertical-align: middle;\n",
       "    }\n",
       "\n",
       "    .dataframe tbody tr th {\n",
       "        vertical-align: top;\n",
       "    }\n",
       "\n",
       "    .dataframe thead th {\n",
       "        text-align: right;\n",
       "    }\n",
       "</style>\n",
       "<table border=\"1\" class=\"dataframe\">\n",
       "  <thead>\n",
       "    <tr style=\"text-align: right;\">\n",
       "      <th></th>\n",
       "      <th>User_ID</th>\n",
       "      <th>Occupation</th>\n",
       "      <th>Marital_Status</th>\n",
       "      <th>Product_Category_1</th>\n",
       "      <th>Product_Category_2</th>\n",
       "      <th>Product_Category_3</th>\n",
       "      <th>Purchase</th>\n",
       "    </tr>\n",
       "  </thead>\n",
       "  <tbody>\n",
       "    <tr>\n",
       "      <th>count</th>\n",
       "      <td>5.500680e+05</td>\n",
       "      <td>550068.000000</td>\n",
       "      <td>550068.000000</td>\n",
       "      <td>550068.000000</td>\n",
       "      <td>376430.000000</td>\n",
       "      <td>166821.000000</td>\n",
       "      <td>550068.000000</td>\n",
       "    </tr>\n",
       "    <tr>\n",
       "      <th>mean</th>\n",
       "      <td>1.003029e+06</td>\n",
       "      <td>8.076707</td>\n",
       "      <td>0.409653</td>\n",
       "      <td>5.404270</td>\n",
       "      <td>9.842329</td>\n",
       "      <td>12.668243</td>\n",
       "      <td>9263.968713</td>\n",
       "    </tr>\n",
       "    <tr>\n",
       "      <th>std</th>\n",
       "      <td>1.727592e+03</td>\n",
       "      <td>6.522660</td>\n",
       "      <td>0.491770</td>\n",
       "      <td>3.936211</td>\n",
       "      <td>5.086590</td>\n",
       "      <td>4.125338</td>\n",
       "      <td>5023.065394</td>\n",
       "    </tr>\n",
       "    <tr>\n",
       "      <th>min</th>\n",
       "      <td>1.000001e+06</td>\n",
       "      <td>0.000000</td>\n",
       "      <td>0.000000</td>\n",
       "      <td>1.000000</td>\n",
       "      <td>2.000000</td>\n",
       "      <td>3.000000</td>\n",
       "      <td>12.000000</td>\n",
       "    </tr>\n",
       "    <tr>\n",
       "      <th>25%</th>\n",
       "      <td>1.001516e+06</td>\n",
       "      <td>2.000000</td>\n",
       "      <td>0.000000</td>\n",
       "      <td>1.000000</td>\n",
       "      <td>5.000000</td>\n",
       "      <td>9.000000</td>\n",
       "      <td>5823.000000</td>\n",
       "    </tr>\n",
       "    <tr>\n",
       "      <th>50%</th>\n",
       "      <td>1.003077e+06</td>\n",
       "      <td>7.000000</td>\n",
       "      <td>0.000000</td>\n",
       "      <td>5.000000</td>\n",
       "      <td>9.000000</td>\n",
       "      <td>14.000000</td>\n",
       "      <td>8047.000000</td>\n",
       "    </tr>\n",
       "    <tr>\n",
       "      <th>75%</th>\n",
       "      <td>1.004478e+06</td>\n",
       "      <td>14.000000</td>\n",
       "      <td>1.000000</td>\n",
       "      <td>8.000000</td>\n",
       "      <td>15.000000</td>\n",
       "      <td>16.000000</td>\n",
       "      <td>12054.000000</td>\n",
       "    </tr>\n",
       "    <tr>\n",
       "      <th>max</th>\n",
       "      <td>1.006040e+06</td>\n",
       "      <td>20.000000</td>\n",
       "      <td>1.000000</td>\n",
       "      <td>20.000000</td>\n",
       "      <td>18.000000</td>\n",
       "      <td>18.000000</td>\n",
       "      <td>23961.000000</td>\n",
       "    </tr>\n",
       "  </tbody>\n",
       "</table>\n",
       "</div>"
      ],
      "text/plain": [
       "            User_ID     Occupation  Marital_Status  Product_Category_1  \\\n",
       "count  5.500680e+05  550068.000000   550068.000000       550068.000000   \n",
       "mean   1.003029e+06       8.076707        0.409653            5.404270   \n",
       "std    1.727592e+03       6.522660        0.491770            3.936211   \n",
       "min    1.000001e+06       0.000000        0.000000            1.000000   \n",
       "25%    1.001516e+06       2.000000        0.000000            1.000000   \n",
       "50%    1.003077e+06       7.000000        0.000000            5.000000   \n",
       "75%    1.004478e+06      14.000000        1.000000            8.000000   \n",
       "max    1.006040e+06      20.000000        1.000000           20.000000   \n",
       "\n",
       "       Product_Category_2  Product_Category_3       Purchase  \n",
       "count       376430.000000       166821.000000  550068.000000  \n",
       "mean             9.842329           12.668243    9263.968713  \n",
       "std              5.086590            4.125338    5023.065394  \n",
       "min              2.000000            3.000000      12.000000  \n",
       "25%              5.000000            9.000000    5823.000000  \n",
       "50%              9.000000           14.000000    8047.000000  \n",
       "75%             15.000000           16.000000   12054.000000  \n",
       "max             18.000000           18.000000   23961.000000  "
      ]
     },
     "execution_count": 4,
     "metadata": {},
     "output_type": "execute_result"
    }
   ],
   "source": [
    "# Checking the descriptive statistics for our data.\n",
    "\n",
    "df.describe()"
   ]
  },
  {
   "cell_type": "code",
   "execution_count": 5,
   "id": "characteristic-double",
   "metadata": {},
   "outputs": [],
   "source": [
    "# From the count of Product Category variables we can infer that their are some missing values.\n",
    "# Marital Status is a boolean variable (0 and 1 only)\n",
    "# Purchase variable is rightly skewed."
   ]
  },
  {
   "cell_type": "code",
   "execution_count": 6,
   "id": "hundred-european",
   "metadata": {},
   "outputs": [
    {
     "data": {
      "text/plain": [
       "User_ID                            0\n",
       "Product_ID                         0\n",
       "Gender                             0\n",
       "Age                                0\n",
       "Occupation                         0\n",
       "City_Category                      0\n",
       "Stay_In_Current_City_Years         0\n",
       "Marital_Status                     0\n",
       "Product_Category_1                 0\n",
       "Product_Category_2            173638\n",
       "Product_Category_3            383247\n",
       "Purchase                           0\n",
       "dtype: int64"
      ]
     },
     "execution_count": 6,
     "metadata": {},
     "output_type": "execute_result"
    }
   ],
   "source": [
    "df.isna().sum()"
   ]
  },
  {
   "cell_type": "code",
   "execution_count": 7,
   "id": "derived-construction",
   "metadata": {},
   "outputs": [],
   "source": [
    "# Yes their are null values afterall."
   ]
  },
  {
   "cell_type": "code",
   "execution_count": 8,
   "id": "weighted-electric",
   "metadata": {},
   "outputs": [
    {
     "data": {
      "text/plain": [
       "0.3156664266963357"
      ]
     },
     "execution_count": 8,
     "metadata": {},
     "output_type": "execute_result"
    }
   ],
   "source": [
    "# Checking the ratio of null values \n",
    "# first lets see of product category 2\n",
    "(df['Product_Category_2'].isna().sum())/df.shape[0]\n"
   ]
  },
  {
   "cell_type": "code",
   "execution_count": 9,
   "id": "thirty-salem",
   "metadata": {},
   "outputs": [
    {
     "data": {
      "text/plain": [
       "0.6967265865311197"
      ]
     },
     "execution_count": 9,
     "metadata": {},
     "output_type": "execute_result"
    }
   ],
   "source": [
    "# and now for Product Category 3\n",
    "(df['Product_Category_3'].isna().sum())/df.shape[0]"
   ]
  },
  {
   "cell_type": "code",
   "execution_count": 10,
   "id": "simplified-fossil",
   "metadata": {},
   "outputs": [
    {
     "data": {
      "text/plain": [
       "User_ID                       0\n",
       "Product_ID                    0\n",
       "Gender                        0\n",
       "Age                           0\n",
       "Occupation                    0\n",
       "City_Category                 0\n",
       "Stay_In_Current_City_Years    0\n",
       "Marital_Status                0\n",
       "Product_Category_1            0\n",
       "Product_Category_2            0\n",
       "Product_Category_3            0\n",
       "Purchase                      0\n",
       "dtype: int64"
      ]
     },
     "execution_count": 10,
     "metadata": {},
     "output_type": "execute_result"
    }
   ],
   "source": [
    "# Let us impute these missing values with the median values of both their categories.\n",
    "\n",
    "df['Product_Category_2'] = df['Product_Category_2'].fillna(value = df['Product_Category_2'].median())\n",
    "df['Product_Category_3'] = df['Product_Category_3'].fillna(value = df['Product_Category_3'].median())\n",
    "df.isna().sum()"
   ]
  },
  {
   "cell_type": "code",
   "execution_count": 11,
   "id": "strategic-stockholm",
   "metadata": {},
   "outputs": [
    {
     "data": {
      "text/html": [
       "<div>\n",
       "<style scoped>\n",
       "    .dataframe tbody tr th:only-of-type {\n",
       "        vertical-align: middle;\n",
       "    }\n",
       "\n",
       "    .dataframe tbody tr th {\n",
       "        vertical-align: top;\n",
       "    }\n",
       "\n",
       "    .dataframe thead th {\n",
       "        text-align: right;\n",
       "    }\n",
       "</style>\n",
       "<table border=\"1\" class=\"dataframe\">\n",
       "  <thead>\n",
       "    <tr style=\"text-align: right;\">\n",
       "      <th></th>\n",
       "      <th>User_ID</th>\n",
       "      <th>Product_ID</th>\n",
       "      <th>Gender</th>\n",
       "      <th>Age</th>\n",
       "      <th>Occupation</th>\n",
       "      <th>City_Category</th>\n",
       "      <th>Stay_In_Current_City_Years</th>\n",
       "      <th>Marital_Status</th>\n",
       "      <th>Product_Category_1</th>\n",
       "      <th>Product_Category_2</th>\n",
       "      <th>Product_Category_3</th>\n",
       "      <th>Purchase</th>\n",
       "      <th>F</th>\n",
       "      <th>M</th>\n",
       "    </tr>\n",
       "  </thead>\n",
       "  <tbody>\n",
       "    <tr>\n",
       "      <th>0</th>\n",
       "      <td>1000001</td>\n",
       "      <td>P00069042</td>\n",
       "      <td>F</td>\n",
       "      <td>0-17</td>\n",
       "      <td>10</td>\n",
       "      <td>A</td>\n",
       "      <td>2</td>\n",
       "      <td>0</td>\n",
       "      <td>3</td>\n",
       "      <td>9.0</td>\n",
       "      <td>14.0</td>\n",
       "      <td>8370</td>\n",
       "      <td>1</td>\n",
       "      <td>0</td>\n",
       "    </tr>\n",
       "    <tr>\n",
       "      <th>1</th>\n",
       "      <td>1000001</td>\n",
       "      <td>P00248942</td>\n",
       "      <td>F</td>\n",
       "      <td>0-17</td>\n",
       "      <td>10</td>\n",
       "      <td>A</td>\n",
       "      <td>2</td>\n",
       "      <td>0</td>\n",
       "      <td>1</td>\n",
       "      <td>6.0</td>\n",
       "      <td>14.0</td>\n",
       "      <td>15200</td>\n",
       "      <td>1</td>\n",
       "      <td>0</td>\n",
       "    </tr>\n",
       "    <tr>\n",
       "      <th>2</th>\n",
       "      <td>1000001</td>\n",
       "      <td>P00087842</td>\n",
       "      <td>F</td>\n",
       "      <td>0-17</td>\n",
       "      <td>10</td>\n",
       "      <td>A</td>\n",
       "      <td>2</td>\n",
       "      <td>0</td>\n",
       "      <td>12</td>\n",
       "      <td>9.0</td>\n",
       "      <td>14.0</td>\n",
       "      <td>1422</td>\n",
       "      <td>1</td>\n",
       "      <td>0</td>\n",
       "    </tr>\n",
       "    <tr>\n",
       "      <th>3</th>\n",
       "      <td>1000001</td>\n",
       "      <td>P00085442</td>\n",
       "      <td>F</td>\n",
       "      <td>0-17</td>\n",
       "      <td>10</td>\n",
       "      <td>A</td>\n",
       "      <td>2</td>\n",
       "      <td>0</td>\n",
       "      <td>12</td>\n",
       "      <td>14.0</td>\n",
       "      <td>14.0</td>\n",
       "      <td>1057</td>\n",
       "      <td>1</td>\n",
       "      <td>0</td>\n",
       "    </tr>\n",
       "    <tr>\n",
       "      <th>4</th>\n",
       "      <td>1000002</td>\n",
       "      <td>P00285442</td>\n",
       "      <td>M</td>\n",
       "      <td>55+</td>\n",
       "      <td>16</td>\n",
       "      <td>C</td>\n",
       "      <td>4+</td>\n",
       "      <td>0</td>\n",
       "      <td>8</td>\n",
       "      <td>9.0</td>\n",
       "      <td>14.0</td>\n",
       "      <td>7969</td>\n",
       "      <td>0</td>\n",
       "      <td>1</td>\n",
       "    </tr>\n",
       "  </tbody>\n",
       "</table>\n",
       "</div>"
      ],
      "text/plain": [
       "   User_ID Product_ID Gender   Age  Occupation City_Category  \\\n",
       "0  1000001  P00069042      F  0-17          10             A   \n",
       "1  1000001  P00248942      F  0-17          10             A   \n",
       "2  1000001  P00087842      F  0-17          10             A   \n",
       "3  1000001  P00085442      F  0-17          10             A   \n",
       "4  1000002  P00285442      M   55+          16             C   \n",
       "\n",
       "  Stay_In_Current_City_Years  Marital_Status  Product_Category_1  \\\n",
       "0                          2               0                   3   \n",
       "1                          2               0                   1   \n",
       "2                          2               0                  12   \n",
       "3                          2               0                  12   \n",
       "4                         4+               0                   8   \n",
       "\n",
       "   Product_Category_2  Product_Category_3  Purchase  F  M  \n",
       "0                 9.0                14.0      8370  1  0  \n",
       "1                 6.0                14.0     15200  1  0  \n",
       "2                 9.0                14.0      1422  1  0  \n",
       "3                14.0                14.0      1057  1  0  \n",
       "4                 9.0                14.0      7969  0  1  "
      ]
     },
     "execution_count": 11,
     "metadata": {},
     "output_type": "execute_result"
    }
   ],
   "source": [
    "# Gender is a nominal categorical variable , so lets convert it via get dummies function\n",
    "\n",
    "Gender = pd.get_dummies(df['Gender'])\n",
    "df = pd.concat([df , Gender] , axis = 1)\n",
    "\n",
    "df.head()"
   ]
  },
  {
   "cell_type": "code",
   "execution_count": 12,
   "id": "parental-pilot",
   "metadata": {},
   "outputs": [
    {
     "data": {
      "text/plain": [
       "array([10, 16, 15,  7, 20,  9,  1, 12, 17,  0,  3,  4, 11,  8, 19,  2, 18,\n",
       "        5, 14, 13,  6], dtype=int64)"
      ]
     },
     "execution_count": 12,
     "metadata": {},
     "output_type": "execute_result"
    }
   ],
   "source": [
    "df['Occupation'].unique()"
   ]
  },
  {
   "cell_type": "code",
   "execution_count": 13,
   "id": "optimum-driver",
   "metadata": {},
   "outputs": [],
   "source": [
    "# Looks like Ocuupation is an ordinal variable. Lets not distribute it any further."
   ]
  },
  {
   "cell_type": "code",
   "execution_count": 14,
   "id": "filled-symposium",
   "metadata": {},
   "outputs": [
    {
     "data": {
      "text/plain": [
       "count     550068\n",
       "unique         7\n",
       "top        26-35\n",
       "freq      219587\n",
       "Name: Age, dtype: object"
      ]
     },
     "execution_count": 14,
     "metadata": {},
     "output_type": "execute_result"
    }
   ],
   "source": [
    "df['Age'].describe()"
   ]
  },
  {
   "cell_type": "code",
   "execution_count": 15,
   "id": "comparative-affiliate",
   "metadata": {},
   "outputs": [
    {
     "data": {
      "text/plain": [
       "array(['0-17', '55+', '26-35', '46-50', '51-55', '36-45', '18-25'],\n",
       "      dtype=object)"
      ]
     },
     "execution_count": 15,
     "metadata": {},
     "output_type": "execute_result"
    }
   ],
   "source": [
    "df['Age'].unique()"
   ]
  },
  {
   "cell_type": "code",
   "execution_count": 16,
   "id": "pharmaceutical-fruit",
   "metadata": {},
   "outputs": [
    {
     "data": {
      "text/html": [
       "<div>\n",
       "<style scoped>\n",
       "    .dataframe tbody tr th:only-of-type {\n",
       "        vertical-align: middle;\n",
       "    }\n",
       "\n",
       "    .dataframe tbody tr th {\n",
       "        vertical-align: top;\n",
       "    }\n",
       "\n",
       "    .dataframe thead th {\n",
       "        text-align: right;\n",
       "    }\n",
       "</style>\n",
       "<table border=\"1\" class=\"dataframe\">\n",
       "  <thead>\n",
       "    <tr style=\"text-align: right;\">\n",
       "      <th></th>\n",
       "      <th>User_ID</th>\n",
       "      <th>Product_ID</th>\n",
       "      <th>Gender</th>\n",
       "      <th>Age</th>\n",
       "      <th>Occupation</th>\n",
       "      <th>City_Category</th>\n",
       "      <th>Stay_In_Current_City_Years</th>\n",
       "      <th>Marital_Status</th>\n",
       "      <th>Product_Category_1</th>\n",
       "      <th>Product_Category_2</th>\n",
       "      <th>Product_Category_3</th>\n",
       "      <th>Purchase</th>\n",
       "      <th>F</th>\n",
       "      <th>M</th>\n",
       "    </tr>\n",
       "  </thead>\n",
       "  <tbody>\n",
       "    <tr>\n",
       "      <th>0</th>\n",
       "      <td>1000001</td>\n",
       "      <td>P00069042</td>\n",
       "      <td>F</td>\n",
       "      <td>17</td>\n",
       "      <td>10</td>\n",
       "      <td>A</td>\n",
       "      <td>2</td>\n",
       "      <td>0</td>\n",
       "      <td>3</td>\n",
       "      <td>9.0</td>\n",
       "      <td>14.0</td>\n",
       "      <td>8370</td>\n",
       "      <td>1</td>\n",
       "      <td>0</td>\n",
       "    </tr>\n",
       "    <tr>\n",
       "      <th>1</th>\n",
       "      <td>1000001</td>\n",
       "      <td>P00248942</td>\n",
       "      <td>F</td>\n",
       "      <td>17</td>\n",
       "      <td>10</td>\n",
       "      <td>A</td>\n",
       "      <td>2</td>\n",
       "      <td>0</td>\n",
       "      <td>1</td>\n",
       "      <td>6.0</td>\n",
       "      <td>14.0</td>\n",
       "      <td>15200</td>\n",
       "      <td>1</td>\n",
       "      <td>0</td>\n",
       "    </tr>\n",
       "    <tr>\n",
       "      <th>2</th>\n",
       "      <td>1000001</td>\n",
       "      <td>P00087842</td>\n",
       "      <td>F</td>\n",
       "      <td>17</td>\n",
       "      <td>10</td>\n",
       "      <td>A</td>\n",
       "      <td>2</td>\n",
       "      <td>0</td>\n",
       "      <td>12</td>\n",
       "      <td>9.0</td>\n",
       "      <td>14.0</td>\n",
       "      <td>1422</td>\n",
       "      <td>1</td>\n",
       "      <td>0</td>\n",
       "    </tr>\n",
       "    <tr>\n",
       "      <th>3</th>\n",
       "      <td>1000001</td>\n",
       "      <td>P00085442</td>\n",
       "      <td>F</td>\n",
       "      <td>17</td>\n",
       "      <td>10</td>\n",
       "      <td>A</td>\n",
       "      <td>2</td>\n",
       "      <td>0</td>\n",
       "      <td>12</td>\n",
       "      <td>14.0</td>\n",
       "      <td>14.0</td>\n",
       "      <td>1057</td>\n",
       "      <td>1</td>\n",
       "      <td>0</td>\n",
       "    </tr>\n",
       "    <tr>\n",
       "      <th>4</th>\n",
       "      <td>1000002</td>\n",
       "      <td>P00285442</td>\n",
       "      <td>M</td>\n",
       "      <td>56</td>\n",
       "      <td>16</td>\n",
       "      <td>C</td>\n",
       "      <td>4+</td>\n",
       "      <td>0</td>\n",
       "      <td>8</td>\n",
       "      <td>9.0</td>\n",
       "      <td>14.0</td>\n",
       "      <td>7969</td>\n",
       "      <td>0</td>\n",
       "      <td>1</td>\n",
       "    </tr>\n",
       "  </tbody>\n",
       "</table>\n",
       "</div>"
      ],
      "text/plain": [
       "   User_ID Product_ID Gender  Age  Occupation City_Category  \\\n",
       "0  1000001  P00069042      F   17          10             A   \n",
       "1  1000001  P00248942      F   17          10             A   \n",
       "2  1000001  P00087842      F   17          10             A   \n",
       "3  1000001  P00085442      F   17          10             A   \n",
       "4  1000002  P00285442      M   56          16             C   \n",
       "\n",
       "  Stay_In_Current_City_Years  Marital_Status  Product_Category_1  \\\n",
       "0                          2               0                   3   \n",
       "1                          2               0                   1   \n",
       "2                          2               0                  12   \n",
       "3                          2               0                  12   \n",
       "4                         4+               0                   8   \n",
       "\n",
       "   Product_Category_2  Product_Category_3  Purchase  F  M  \n",
       "0                 9.0                14.0      8370  1  0  \n",
       "1                 6.0                14.0     15200  1  0  \n",
       "2                 9.0                14.0      1422  1  0  \n",
       "3                14.0                14.0      1057  1  0  \n",
       "4                 9.0                14.0      7969  0  1  "
      ]
     },
     "execution_count": 16,
     "metadata": {},
     "output_type": "execute_result"
    }
   ],
   "source": [
    "# It is an object type variable , we need to convert it to int type.\n",
    "# Lets take the upper value in the set of values of Age.\n",
    "\n",
    "df['Age'] = df['Age'].map({\n",
    "    '0-17':17,\n",
    "    '18-25':25,\n",
    "    '26-35':35,\n",
    "    '36-45':45,\n",
    "    '46-50':50,\n",
    "    '51-55':55,\n",
    "    '55+':56\n",
    "})\n",
    "\n",
    "df.head()"
   ]
  },
  {
   "cell_type": "code",
   "execution_count": 17,
   "id": "tough-royalty",
   "metadata": {},
   "outputs": [
    {
     "data": {
      "text/plain": [
       "array(['A', 'C', 'B'], dtype=object)"
      ]
     },
     "execution_count": 17,
     "metadata": {},
     "output_type": "execute_result"
    }
   ],
   "source": [
    "# Lets now focus on City Category variable\n",
    "df['City_Category'].unique()"
   ]
  },
  {
   "cell_type": "code",
   "execution_count": 18,
   "id": "exciting-forward",
   "metadata": {},
   "outputs": [],
   "source": [
    "# This is an ordinal variable."
   ]
  },
  {
   "cell_type": "code",
   "execution_count": 19,
   "id": "ecological-choir",
   "metadata": {},
   "outputs": [
    {
     "data": {
      "text/html": [
       "<div>\n",
       "<style scoped>\n",
       "    .dataframe tbody tr th:only-of-type {\n",
       "        vertical-align: middle;\n",
       "    }\n",
       "\n",
       "    .dataframe tbody tr th {\n",
       "        vertical-align: top;\n",
       "    }\n",
       "\n",
       "    .dataframe thead th {\n",
       "        text-align: right;\n",
       "    }\n",
       "</style>\n",
       "<table border=\"1\" class=\"dataframe\">\n",
       "  <thead>\n",
       "    <tr style=\"text-align: right;\">\n",
       "      <th></th>\n",
       "      <th>User_ID</th>\n",
       "      <th>Product_ID</th>\n",
       "      <th>Gender</th>\n",
       "      <th>Age</th>\n",
       "      <th>Occupation</th>\n",
       "      <th>City_Category</th>\n",
       "      <th>Stay_In_Current_City_Years</th>\n",
       "      <th>Marital_Status</th>\n",
       "      <th>Product_Category_1</th>\n",
       "      <th>Product_Category_2</th>\n",
       "      <th>Product_Category_3</th>\n",
       "      <th>Purchase</th>\n",
       "      <th>F</th>\n",
       "      <th>M</th>\n",
       "    </tr>\n",
       "  </thead>\n",
       "  <tbody>\n",
       "    <tr>\n",
       "      <th>0</th>\n",
       "      <td>1000001</td>\n",
       "      <td>P00069042</td>\n",
       "      <td>F</td>\n",
       "      <td>17</td>\n",
       "      <td>10</td>\n",
       "      <td>1</td>\n",
       "      <td>2</td>\n",
       "      <td>0</td>\n",
       "      <td>3</td>\n",
       "      <td>9.0</td>\n",
       "      <td>14.0</td>\n",
       "      <td>8370</td>\n",
       "      <td>1</td>\n",
       "      <td>0</td>\n",
       "    </tr>\n",
       "    <tr>\n",
       "      <th>1</th>\n",
       "      <td>1000001</td>\n",
       "      <td>P00248942</td>\n",
       "      <td>F</td>\n",
       "      <td>17</td>\n",
       "      <td>10</td>\n",
       "      <td>1</td>\n",
       "      <td>2</td>\n",
       "      <td>0</td>\n",
       "      <td>1</td>\n",
       "      <td>6.0</td>\n",
       "      <td>14.0</td>\n",
       "      <td>15200</td>\n",
       "      <td>1</td>\n",
       "      <td>0</td>\n",
       "    </tr>\n",
       "    <tr>\n",
       "      <th>2</th>\n",
       "      <td>1000001</td>\n",
       "      <td>P00087842</td>\n",
       "      <td>F</td>\n",
       "      <td>17</td>\n",
       "      <td>10</td>\n",
       "      <td>1</td>\n",
       "      <td>2</td>\n",
       "      <td>0</td>\n",
       "      <td>12</td>\n",
       "      <td>9.0</td>\n",
       "      <td>14.0</td>\n",
       "      <td>1422</td>\n",
       "      <td>1</td>\n",
       "      <td>0</td>\n",
       "    </tr>\n",
       "    <tr>\n",
       "      <th>3</th>\n",
       "      <td>1000001</td>\n",
       "      <td>P00085442</td>\n",
       "      <td>F</td>\n",
       "      <td>17</td>\n",
       "      <td>10</td>\n",
       "      <td>1</td>\n",
       "      <td>2</td>\n",
       "      <td>0</td>\n",
       "      <td>12</td>\n",
       "      <td>14.0</td>\n",
       "      <td>14.0</td>\n",
       "      <td>1057</td>\n",
       "      <td>1</td>\n",
       "      <td>0</td>\n",
       "    </tr>\n",
       "    <tr>\n",
       "      <th>4</th>\n",
       "      <td>1000002</td>\n",
       "      <td>P00285442</td>\n",
       "      <td>M</td>\n",
       "      <td>56</td>\n",
       "      <td>16</td>\n",
       "      <td>3</td>\n",
       "      <td>4+</td>\n",
       "      <td>0</td>\n",
       "      <td>8</td>\n",
       "      <td>9.0</td>\n",
       "      <td>14.0</td>\n",
       "      <td>7969</td>\n",
       "      <td>0</td>\n",
       "      <td>1</td>\n",
       "    </tr>\n",
       "  </tbody>\n",
       "</table>\n",
       "</div>"
      ],
      "text/plain": [
       "   User_ID Product_ID Gender  Age  Occupation  City_Category  \\\n",
       "0  1000001  P00069042      F   17          10              1   \n",
       "1  1000001  P00248942      F   17          10              1   \n",
       "2  1000001  P00087842      F   17          10              1   \n",
       "3  1000001  P00085442      F   17          10              1   \n",
       "4  1000002  P00285442      M   56          16              3   \n",
       "\n",
       "  Stay_In_Current_City_Years  Marital_Status  Product_Category_1  \\\n",
       "0                          2               0                   3   \n",
       "1                          2               0                   1   \n",
       "2                          2               0                  12   \n",
       "3                          2               0                  12   \n",
       "4                         4+               0                   8   \n",
       "\n",
       "   Product_Category_2  Product_Category_3  Purchase  F  M  \n",
       "0                 9.0                14.0      8370  1  0  \n",
       "1                 6.0                14.0     15200  1  0  \n",
       "2                 9.0                14.0      1422  1  0  \n",
       "3                14.0                14.0      1057  1  0  \n",
       "4                 9.0                14.0      7969  0  1  "
      ]
     },
     "execution_count": 19,
     "metadata": {},
     "output_type": "execute_result"
    }
   ],
   "source": [
    "df['City_Category'] = df['City_Category'].map({\n",
    "    'A':1,\n",
    "    \"B\":2,\n",
    "    'C':3\n",
    "})\n",
    "\n",
    "df.head()"
   ]
  },
  {
   "cell_type": "code",
   "execution_count": 20,
   "id": "caring-substitute",
   "metadata": {},
   "outputs": [
    {
     "data": {
      "text/plain": [
       "array(['2', '4+', '3', '1', '0'], dtype=object)"
      ]
     },
     "execution_count": 20,
     "metadata": {},
     "output_type": "execute_result"
    }
   ],
   "source": [
    "df['Stay_In_Current_City_Years'].unique()"
   ]
  },
  {
   "cell_type": "code",
   "execution_count": 21,
   "id": "complex-collector",
   "metadata": {},
   "outputs": [
    {
     "data": {
      "text/html": [
       "<div>\n",
       "<style scoped>\n",
       "    .dataframe tbody tr th:only-of-type {\n",
       "        vertical-align: middle;\n",
       "    }\n",
       "\n",
       "    .dataframe tbody tr th {\n",
       "        vertical-align: top;\n",
       "    }\n",
       "\n",
       "    .dataframe thead th {\n",
       "        text-align: right;\n",
       "    }\n",
       "</style>\n",
       "<table border=\"1\" class=\"dataframe\">\n",
       "  <thead>\n",
       "    <tr style=\"text-align: right;\">\n",
       "      <th></th>\n",
       "      <th>User_ID</th>\n",
       "      <th>Product_ID</th>\n",
       "      <th>Gender</th>\n",
       "      <th>Age</th>\n",
       "      <th>Occupation</th>\n",
       "      <th>City_Category</th>\n",
       "      <th>Stay_In_Current_City_Years</th>\n",
       "      <th>Marital_Status</th>\n",
       "      <th>Product_Category_1</th>\n",
       "      <th>Product_Category_2</th>\n",
       "      <th>Product_Category_3</th>\n",
       "      <th>Purchase</th>\n",
       "      <th>F</th>\n",
       "      <th>M</th>\n",
       "    </tr>\n",
       "  </thead>\n",
       "  <tbody>\n",
       "    <tr>\n",
       "      <th>0</th>\n",
       "      <td>1000001</td>\n",
       "      <td>P00069042</td>\n",
       "      <td>F</td>\n",
       "      <td>17</td>\n",
       "      <td>10</td>\n",
       "      <td>1</td>\n",
       "      <td>2</td>\n",
       "      <td>0</td>\n",
       "      <td>3</td>\n",
       "      <td>9.0</td>\n",
       "      <td>14.0</td>\n",
       "      <td>8370</td>\n",
       "      <td>1</td>\n",
       "      <td>0</td>\n",
       "    </tr>\n",
       "    <tr>\n",
       "      <th>1</th>\n",
       "      <td>1000001</td>\n",
       "      <td>P00248942</td>\n",
       "      <td>F</td>\n",
       "      <td>17</td>\n",
       "      <td>10</td>\n",
       "      <td>1</td>\n",
       "      <td>2</td>\n",
       "      <td>0</td>\n",
       "      <td>1</td>\n",
       "      <td>6.0</td>\n",
       "      <td>14.0</td>\n",
       "      <td>15200</td>\n",
       "      <td>1</td>\n",
       "      <td>0</td>\n",
       "    </tr>\n",
       "    <tr>\n",
       "      <th>2</th>\n",
       "      <td>1000001</td>\n",
       "      <td>P00087842</td>\n",
       "      <td>F</td>\n",
       "      <td>17</td>\n",
       "      <td>10</td>\n",
       "      <td>1</td>\n",
       "      <td>2</td>\n",
       "      <td>0</td>\n",
       "      <td>12</td>\n",
       "      <td>9.0</td>\n",
       "      <td>14.0</td>\n",
       "      <td>1422</td>\n",
       "      <td>1</td>\n",
       "      <td>0</td>\n",
       "    </tr>\n",
       "    <tr>\n",
       "      <th>3</th>\n",
       "      <td>1000001</td>\n",
       "      <td>P00085442</td>\n",
       "      <td>F</td>\n",
       "      <td>17</td>\n",
       "      <td>10</td>\n",
       "      <td>1</td>\n",
       "      <td>2</td>\n",
       "      <td>0</td>\n",
       "      <td>12</td>\n",
       "      <td>14.0</td>\n",
       "      <td>14.0</td>\n",
       "      <td>1057</td>\n",
       "      <td>1</td>\n",
       "      <td>0</td>\n",
       "    </tr>\n",
       "    <tr>\n",
       "      <th>4</th>\n",
       "      <td>1000002</td>\n",
       "      <td>P00285442</td>\n",
       "      <td>M</td>\n",
       "      <td>56</td>\n",
       "      <td>16</td>\n",
       "      <td>3</td>\n",
       "      <td>5</td>\n",
       "      <td>0</td>\n",
       "      <td>8</td>\n",
       "      <td>9.0</td>\n",
       "      <td>14.0</td>\n",
       "      <td>7969</td>\n",
       "      <td>0</td>\n",
       "      <td>1</td>\n",
       "    </tr>\n",
       "  </tbody>\n",
       "</table>\n",
       "</div>"
      ],
      "text/plain": [
       "   User_ID Product_ID Gender  Age  Occupation  City_Category  \\\n",
       "0  1000001  P00069042      F   17          10              1   \n",
       "1  1000001  P00248942      F   17          10              1   \n",
       "2  1000001  P00087842      F   17          10              1   \n",
       "3  1000001  P00085442      F   17          10              1   \n",
       "4  1000002  P00285442      M   56          16              3   \n",
       "\n",
       "   Stay_In_Current_City_Years  Marital_Status  Product_Category_1  \\\n",
       "0                           2               0                   3   \n",
       "1                           2               0                   1   \n",
       "2                           2               0                  12   \n",
       "3                           2               0                  12   \n",
       "4                           5               0                   8   \n",
       "\n",
       "   Product_Category_2  Product_Category_3  Purchase  F  M  \n",
       "0                 9.0                14.0      8370  1  0  \n",
       "1                 6.0                14.0     15200  1  0  \n",
       "2                 9.0                14.0      1422  1  0  \n",
       "3                14.0                14.0      1057  1  0  \n",
       "4                 9.0                14.0      7969  0  1  "
      ]
     },
     "execution_count": 21,
     "metadata": {},
     "output_type": "execute_result"
    }
   ],
   "source": [
    "df['Stay_In_Current_City_Years'] = df['Stay_In_Current_City_Years'].map({\n",
    "    '2':2,\n",
    "    '0':0,\n",
    "    '1':1,\n",
    "    '3':3,\n",
    "    '4+':5\n",
    "})\n",
    "\n",
    "df.head()"
   ]
  },
  {
   "cell_type": "code",
   "execution_count": 22,
   "id": "athletic-olive",
   "metadata": {},
   "outputs": [
    {
     "data": {
      "text/plain": [
       "array([1000001, 1000002, 1000003, ..., 1004113, 1005391, 1001529],\n",
       "      dtype=int64)"
      ]
     },
     "execution_count": 22,
     "metadata": {},
     "output_type": "execute_result"
    }
   ],
   "source": [
    "df['User_ID'].unique()"
   ]
  },
  {
   "cell_type": "code",
   "execution_count": 23,
   "id": "biological-range",
   "metadata": {},
   "outputs": [
    {
     "data": {
      "text/plain": [
       "3631"
      ]
     },
     "execution_count": 23,
     "metadata": {},
     "output_type": "execute_result"
    }
   ],
   "source": [
    "len(df['Product_ID'].unique())"
   ]
  },
  {
   "cell_type": "code",
   "execution_count": 24,
   "id": "judicial-climate",
   "metadata": {},
   "outputs": [],
   "source": [
    "df.drop(['User_ID' , 'Product_ID' , 'Gender'] , axis = 1 , inplace = True)"
   ]
  },
  {
   "cell_type": "code",
   "execution_count": 25,
   "id": "departmental-latvia",
   "metadata": {},
   "outputs": [
    {
     "data": {
      "text/html": [
       "<div>\n",
       "<style scoped>\n",
       "    .dataframe tbody tr th:only-of-type {\n",
       "        vertical-align: middle;\n",
       "    }\n",
       "\n",
       "    .dataframe tbody tr th {\n",
       "        vertical-align: top;\n",
       "    }\n",
       "\n",
       "    .dataframe thead th {\n",
       "        text-align: right;\n",
       "    }\n",
       "</style>\n",
       "<table border=\"1\" class=\"dataframe\">\n",
       "  <thead>\n",
       "    <tr style=\"text-align: right;\">\n",
       "      <th></th>\n",
       "      <th>Age</th>\n",
       "      <th>Occupation</th>\n",
       "      <th>City_Category</th>\n",
       "      <th>Stay_In_Current_City_Years</th>\n",
       "      <th>Marital_Status</th>\n",
       "      <th>Product_Category_1</th>\n",
       "      <th>Product_Category_2</th>\n",
       "      <th>Product_Category_3</th>\n",
       "      <th>Purchase</th>\n",
       "      <th>F</th>\n",
       "      <th>M</th>\n",
       "    </tr>\n",
       "  </thead>\n",
       "  <tbody>\n",
       "    <tr>\n",
       "      <th>0</th>\n",
       "      <td>17</td>\n",
       "      <td>10</td>\n",
       "      <td>1</td>\n",
       "      <td>2</td>\n",
       "      <td>0</td>\n",
       "      <td>3</td>\n",
       "      <td>9.0</td>\n",
       "      <td>14.0</td>\n",
       "      <td>8370</td>\n",
       "      <td>1</td>\n",
       "      <td>0</td>\n",
       "    </tr>\n",
       "    <tr>\n",
       "      <th>1</th>\n",
       "      <td>17</td>\n",
       "      <td>10</td>\n",
       "      <td>1</td>\n",
       "      <td>2</td>\n",
       "      <td>0</td>\n",
       "      <td>1</td>\n",
       "      <td>6.0</td>\n",
       "      <td>14.0</td>\n",
       "      <td>15200</td>\n",
       "      <td>1</td>\n",
       "      <td>0</td>\n",
       "    </tr>\n",
       "    <tr>\n",
       "      <th>2</th>\n",
       "      <td>17</td>\n",
       "      <td>10</td>\n",
       "      <td>1</td>\n",
       "      <td>2</td>\n",
       "      <td>0</td>\n",
       "      <td>12</td>\n",
       "      <td>9.0</td>\n",
       "      <td>14.0</td>\n",
       "      <td>1422</td>\n",
       "      <td>1</td>\n",
       "      <td>0</td>\n",
       "    </tr>\n",
       "    <tr>\n",
       "      <th>3</th>\n",
       "      <td>17</td>\n",
       "      <td>10</td>\n",
       "      <td>1</td>\n",
       "      <td>2</td>\n",
       "      <td>0</td>\n",
       "      <td>12</td>\n",
       "      <td>14.0</td>\n",
       "      <td>14.0</td>\n",
       "      <td>1057</td>\n",
       "      <td>1</td>\n",
       "      <td>0</td>\n",
       "    </tr>\n",
       "    <tr>\n",
       "      <th>4</th>\n",
       "      <td>56</td>\n",
       "      <td>16</td>\n",
       "      <td>3</td>\n",
       "      <td>5</td>\n",
       "      <td>0</td>\n",
       "      <td>8</td>\n",
       "      <td>9.0</td>\n",
       "      <td>14.0</td>\n",
       "      <td>7969</td>\n",
       "      <td>0</td>\n",
       "      <td>1</td>\n",
       "    </tr>\n",
       "  </tbody>\n",
       "</table>\n",
       "</div>"
      ],
      "text/plain": [
       "   Age  Occupation  City_Category  Stay_In_Current_City_Years  Marital_Status  \\\n",
       "0   17          10              1                           2               0   \n",
       "1   17          10              1                           2               0   \n",
       "2   17          10              1                           2               0   \n",
       "3   17          10              1                           2               0   \n",
       "4   56          16              3                           5               0   \n",
       "\n",
       "   Product_Category_1  Product_Category_2  Product_Category_3  Purchase  F  M  \n",
       "0                   3                 9.0                14.0      8370  1  0  \n",
       "1                   1                 6.0                14.0     15200  1  0  \n",
       "2                  12                 9.0                14.0      1422  1  0  \n",
       "3                  12                14.0                14.0      1057  1  0  \n",
       "4                   8                 9.0                14.0      7969  0  1  "
      ]
     },
     "execution_count": 25,
     "metadata": {},
     "output_type": "execute_result"
    }
   ],
   "source": [
    "df.head()"
   ]
  },
  {
   "cell_type": "code",
   "execution_count": 26,
   "id": "parallel-estate",
   "metadata": {},
   "outputs": [
    {
     "data": {
      "text/plain": [
       "(550068, 11)"
      ]
     },
     "execution_count": 26,
     "metadata": {},
     "output_type": "execute_result"
    }
   ],
   "source": [
    "df.shape"
   ]
  },
  {
   "cell_type": "markdown",
   "id": "pacific-attention",
   "metadata": {},
   "source": [
    "# Creating a Heatmap using correlated values"
   ]
  },
  {
   "cell_type": "code",
   "execution_count": 27,
   "id": "major-publisher",
   "metadata": {},
   "outputs": [
    {
     "data": {
      "text/plain": [
       "<AxesSubplot:>"
      ]
     },
     "execution_count": 27,
     "metadata": {},
     "output_type": "execute_result"
    },
    {
     "data": {
      "image/png": "[encoded data removed]",
      "text/plain": [
       "<Figure size 432x288 with 2 Axes>"
      ]
     },
     "metadata": {
      "needs_background": "light"
     },
     "output_type": "display_data"
    }
   ],
   "source": [
    "correlated = df.corr()\n",
    "sns.heatmap(correlated , cmap = 'coolwarm' , linecolor = 'white' , linewidth = 0.1)"
   ]
  },
  {
   "cell_type": "code",
   "execution_count": 28,
   "id": "interracial-aruba",
   "metadata": {},
   "outputs": [],
   "source": [
    "# From the above heatmap , we can see that product categories are quiet correlated with each other\n",
    "# Product categories are also correlated with Purchase variable\n",
    "# Stay_In_Current_City_Years are correlated with each others\n",
    "# Marital Status is also positively correlated with age category"
   ]
  },
  {
   "cell_type": "code",
   "execution_count": 29,
   "id": "iraqi-curtis",
   "metadata": {},
   "outputs": [
    {
     "data": {
      "text/html": [
       "<div>\n",
       "<style scoped>\n",
       "    .dataframe tbody tr th:only-of-type {\n",
       "        vertical-align: middle;\n",
       "    }\n",
       "\n",
       "    .dataframe tbody tr th {\n",
       "        vertical-align: top;\n",
       "    }\n",
       "\n",
       "    .dataframe thead th {\n",
       "        text-align: right;\n",
       "    }\n",
       "</style>\n",
       "<table border=\"1\" class=\"dataframe\">\n",
       "  <thead>\n",
       "    <tr style=\"text-align: right;\">\n",
       "      <th></th>\n",
       "      <th>Age</th>\n",
       "      <th>Occupation</th>\n",
       "      <th>City_Category</th>\n",
       "      <th>Stay_In_Current_City_Years</th>\n",
       "      <th>Marital_Status</th>\n",
       "      <th>Product_Category_1</th>\n",
       "      <th>Product_Category_2</th>\n",
       "      <th>Product_Category_3</th>\n",
       "      <th>Purchase</th>\n",
       "      <th>F</th>\n",
       "      <th>M</th>\n",
       "    </tr>\n",
       "  </thead>\n",
       "  <tbody>\n",
       "    <tr>\n",
       "      <th>Age</th>\n",
       "      <td>100.951697</td>\n",
       "      <td>6.357655</td>\n",
       "      <td>0.795150</td>\n",
       "      <td>-0.031087</td>\n",
       "      <td>1.540423</td>\n",
       "      <td>2.352032</td>\n",
       "      <td>1.878738</td>\n",
       "      <td>0.840494</td>\n",
       "      <td>8.384876e+02</td>\n",
       "      <td>0.013144</td>\n",
       "      <td>-0.013144</td>\n",
       "    </tr>\n",
       "    <tr>\n",
       "      <th>Occupation</th>\n",
       "      <td>6.357655</td>\n",
       "      <td>42.545100</td>\n",
       "      <td>0.170966</td>\n",
       "      <td>0.285096</td>\n",
       "      <td>0.077882</td>\n",
       "      <td>-0.195578</td>\n",
       "      <td>0.015342</td>\n",
       "      <td>0.066380</td>\n",
       "      <td>6.825547e+02</td>\n",
       "      <td>-0.329893</td>\n",
       "      <td>0.329893</td>\n",
       "    </tr>\n",
       "    <tr>\n",
       "      <th>City_Category</th>\n",
       "      <td>0.795150</td>\n",
       "      <td>0.170966</td>\n",
       "      <td>0.577920</td>\n",
       "      <td>0.022943</td>\n",
       "      <td>0.014876</td>\n",
       "      <td>-0.042982</td>\n",
       "      <td>-0.022129</td>\n",
       "      <td>-0.020212</td>\n",
       "      <td>2.364247e+02</td>\n",
       "      <td>0.001480</td>\n",
       "      <td>-0.001480</td>\n",
       "    </tr>\n",
       "    <tr>\n",
       "      <th>Stay_In_Current_City_Years</th>\n",
       "      <td>-0.031087</td>\n",
       "      <td>0.285096</td>\n",
       "      <td>0.022943</td>\n",
       "      <td>2.452695</td>\n",
       "      <td>-0.009332</td>\n",
       "      <td>-0.011972</td>\n",
       "      <td>0.000278</td>\n",
       "      <td>0.005261</td>\n",
       "      <td>3.691134e+01</td>\n",
       "      <td>-0.012373</td>\n",
       "      <td>0.012373</td>\n",
       "    </tr>\n",
       "    <tr>\n",
       "      <th>Marital_Status</th>\n",
       "      <td>1.540423</td>\n",
       "      <td>0.077882</td>\n",
       "      <td>0.014876</td>\n",
       "      <td>-0.009332</td>\n",
       "      <td>0.241838</td>\n",
       "      <td>0.038497</td>\n",
       "      <td>0.023954</td>\n",
       "      <td>0.014701</td>\n",
       "      <td>-1.144629e+00</td>\n",
       "      <td>0.002460</td>\n",
       "      <td>-0.002460</td>\n",
       "    </tr>\n",
       "    <tr>\n",
       "      <th>Product_Category_1</th>\n",
       "      <td>2.352032</td>\n",
       "      <td>-0.195578</td>\n",
       "      <td>-0.042982</td>\n",
       "      <td>-0.011972</td>\n",
       "      <td>0.038497</td>\n",
       "      <td>15.493760</td>\n",
       "      <td>5.517531</td>\n",
       "      <td>1.814578</td>\n",
       "      <td>-6.795650e+03</td>\n",
       "      <td>0.077388</td>\n",
       "      <td>-0.077388</td>\n",
       "    </tr>\n",
       "    <tr>\n",
       "      <th>Product_Category_2</th>\n",
       "      <td>1.878738</td>\n",
       "      <td>0.015342</td>\n",
       "      <td>-0.022129</td>\n",
       "      <td>0.000278</td>\n",
       "      <td>0.023954</td>\n",
       "      <td>5.517531</td>\n",
       "      <td>17.859289</td>\n",
       "      <td>4.143153</td>\n",
       "      <td>-3.325861e+03</td>\n",
       "      <td>0.025604</td>\n",
       "      <td>-0.025604</td>\n",
       "    </tr>\n",
       "    <tr>\n",
       "      <th>Product_Category_3</th>\n",
       "      <td>0.840494</td>\n",
       "      <td>0.066380</td>\n",
       "      <td>-0.020212</td>\n",
       "      <td>0.005261</td>\n",
       "      <td>0.014701</td>\n",
       "      <td>1.814578</td>\n",
       "      <td>4.143153</td>\n",
       "      <td>5.535965</td>\n",
       "      <td>-1.106887e+03</td>\n",
       "      <td>-0.005973</td>\n",
       "      <td>0.005973</td>\n",
       "    </tr>\n",
       "    <tr>\n",
       "      <th>Purchase</th>\n",
       "      <td>838.487614</td>\n",
       "      <td>682.554656</td>\n",
       "      <td>236.424706</td>\n",
       "      <td>36.911337</td>\n",
       "      <td>-1.144629</td>\n",
       "      <td>-6795.650007</td>\n",
       "      <td>-3325.861363</td>\n",
       "      <td>-1106.887259</td>\n",
       "      <td>2.523119e+07</td>\n",
       "      <td>-130.707141</td>\n",
       "      <td>130.707141</td>\n",
       "    </tr>\n",
       "    <tr>\n",
       "      <th>F</th>\n",
       "      <td>0.013144</td>\n",
       "      <td>-0.329893</td>\n",
       "      <td>0.001480</td>\n",
       "      <td>-0.012373</td>\n",
       "      <td>0.002460</td>\n",
       "      <td>0.077388</td>\n",
       "      <td>0.025604</td>\n",
       "      <td>-0.005973</td>\n",
       "      <td>-1.307071e+02</td>\n",
       "      <td>0.185938</td>\n",
       "      <td>-0.185938</td>\n",
       "    </tr>\n",
       "    <tr>\n",
       "      <th>M</th>\n",
       "      <td>-0.013144</td>\n",
       "      <td>0.329893</td>\n",
       "      <td>-0.001480</td>\n",
       "      <td>0.012373</td>\n",
       "      <td>-0.002460</td>\n",
       "      <td>-0.077388</td>\n",
       "      <td>-0.025604</td>\n",
       "      <td>0.005973</td>\n",
       "      <td>1.307071e+02</td>\n",
       "      <td>-0.185938</td>\n",
       "      <td>0.185938</td>\n",
       "    </tr>\n",
       "  </tbody>\n",
       "</table>\n",
       "</div>"
      ],
      "text/plain": [
       "                                   Age  Occupation  City_Category  \\\n",
       "Age                         100.951697    6.357655       0.795150   \n",
       "Occupation                    6.357655   42.545100       0.170966   \n",
       "City_Category                 0.795150    0.170966       0.577920   \n",
       "Stay_In_Current_City_Years   -0.031087    0.285096       0.022943   \n",
       "Marital_Status                1.540423    0.077882       0.014876   \n",
       "Product_Category_1            2.352032   -0.195578      -0.042982   \n",
       "Product_Category_2            1.878738    0.015342      -0.022129   \n",
       "Product_Category_3            0.840494    0.066380      -0.020212   \n",
       "Purchase                    838.487614  682.554656     236.424706   \n",
       "F                             0.013144   -0.329893       0.001480   \n",
       "M                            -0.013144    0.329893      -0.001480   \n",
       "\n",
       "                            Stay_In_Current_City_Years  Marital_Status  \\\n",
       "Age                                          -0.031087        1.540423   \n",
       "Occupation                                    0.285096        0.077882   \n",
       "City_Category                                 0.022943        0.014876   \n",
       "Stay_In_Current_City_Years                    2.452695       -0.009332   \n",
       "Marital_Status                               -0.009332        0.241838   \n",
       "Product_Category_1                           -0.011972        0.038497   \n",
       "Product_Category_2                            0.000278        0.023954   \n",
       "Product_Category_3                            0.005261        0.014701   \n",
       "Purchase                                     36.911337       -1.144629   \n",
       "F                                            -0.012373        0.002460   \n",
       "M                                             0.012373       -0.002460   \n",
       "\n",
       "                            Product_Category_1  Product_Category_2  \\\n",
       "Age                                   2.352032            1.878738   \n",
       "Occupation                           -0.195578            0.015342   \n",
       "City_Category                        -0.042982           -0.022129   \n",
       "Stay_In_Current_City_Years           -0.011972            0.000278   \n",
       "Marital_Status                        0.038497            0.023954   \n",
       "Product_Category_1                   15.493760            5.517531   \n",
       "Product_Category_2                    5.517531           17.859289   \n",
       "Product_Category_3                    1.814578            4.143153   \n",
       "Purchase                          -6795.650007        -3325.861363   \n",
       "F                                     0.077388            0.025604   \n",
       "M                                    -0.077388           -0.025604   \n",
       "\n",
       "                            Product_Category_3      Purchase           F  \\\n",
       "Age                                   0.840494  8.384876e+02    0.013144   \n",
       "Occupation                            0.066380  6.825547e+02   -0.329893   \n",
       "City_Category                        -0.020212  2.364247e+02    0.001480   \n",
       "Stay_In_Current_City_Years            0.005261  3.691134e+01   -0.012373   \n",
       "Marital_Status                        0.014701 -1.144629e+00    0.002460   \n",
       "Product_Category_1                    1.814578 -6.795650e+03    0.077388   \n",
       "Product_Category_2                    4.143153 -3.325861e+03    0.025604   \n",
       "Product_Category_3                    5.535965 -1.106887e+03   -0.005973   \n",
       "Purchase                          -1106.887259  2.523119e+07 -130.707141   \n",
       "F                                    -0.005973 -1.307071e+02    0.185938   \n",
       "M                                     0.005973  1.307071e+02   -0.185938   \n",
       "\n",
       "                                     M  \n",
       "Age                          -0.013144  \n",
       "Occupation                    0.329893  \n",
       "City_Category                -0.001480  \n",
       "Stay_In_Current_City_Years    0.012373  \n",
       "Marital_Status               -0.002460  \n",
       "Product_Category_1           -0.077388  \n",
       "Product_Category_2           -0.025604  \n",
       "Product_Category_3            0.005973  \n",
       "Purchase                    130.707141  \n",
       "F                            -0.185938  \n",
       "M                             0.185938  "
      ]
     },
     "execution_count": 29,
     "metadata": {},
     "output_type": "execute_result"
    }
   ],
   "source": [
    "# Plotting the covariance matrix of the above data.\n",
    "\n",
    "covariance_matrix = df.cov(min_periods = None , ddof = 1)\n",
    "covariance_matrix"
   ]
  },
  {
   "cell_type": "markdown",
   "id": "accepted-bathroom",
   "metadata": {},
   "source": [
    "# Looking at Eigen Values and Eigen Vectors"
   ]
  },
  {
   "cell_type": "code",
   "execution_count": 30,
   "id": "cordless-arrest",
   "metadata": {},
   "outputs": [
    {
     "name": "stdout",
     "output_type": "stream",
     "text": [
      "E-value [2.52311883e+07 1.01772064e+02 4.18588117e+01 2.14829622e+01\n",
      " 1.06758079e+01 4.27029248e+00 2.45093240e+00 5.69036776e-01\n",
      " 2.18147983e-01 3.64862488e-01 3.25176795e-17]\n",
      "E-vector [[ 3.32322909e-05 -9.93323197e-01 -1.05862943e-01 -4.05898861e-02\n",
      "  -1.23945411e-02 -2.34630736e-03 -7.79557521e-04 -7.84568235e-03\n",
      "   1.52423497e-02 -9.49839721e-04  1.73192515e-18]\n",
      " [ 2.70520766e-05 -1.06314359e-01  9.94200984e-01  7.30853735e-03\n",
      "   4.91533051e-03 -1.30493791e-03  7.32194834e-03 -2.41250451e-03\n",
      "  -2.39706499e-04  1.10857493e-02 -1.02789948e-17]\n",
      " [ 9.37033738e-06 -7.91053675e-03  1.93975519e-03 -7.23273461e-04\n",
      "   5.52348051e-04 -3.86940225e-03 -1.17076194e-02  9.99553367e-01\n",
      "   8.24743229e-03 -2.46137710e-02  1.54867965e-17]\n",
      " [ 1.46292549e-06  1.72076921e-05  7.26045883e-03  4.32427710e-04\n",
      "  -4.28372550e-04  2.66488516e-03 -9.99871330e-01 -1.15088418e-02\n",
      "  -3.86088540e-03  7.05521769e-03 -7.23638974e-17]\n",
      " [-4.53641000e-08 -1.51729635e-02 -2.07366359e-03 -8.97734526e-04\n",
      "   2.47766407e-06  7.21111989e-04  3.87972065e-03  8.64374528e-03\n",
      "  -9.99659681e-01  1.88390947e-02  1.70692351e-16]\n",
      " [-2.69335495e-04 -3.05914858e-02 -1.12688057e-02  5.17995513e-01\n",
      "   8.54647488e-01 -1.31634597e-02 -2.86628579e-04 -4.86384650e-04\n",
      "  -7.82114777e-05 -4.67127564e-03  2.74083712e-18]\n",
      " [-1.31815637e-04 -2.57471390e-02 -6.65183114e-03  8.16681829e-01\n",
      "  -5.00405804e-01 -2.86211087e-01 -2.40593134e-04 -4.43044346e-04\n",
      "  -5.51566154e-04 -5.45459222e-04  1.37057510e-18]\n",
      " [-4.38698503e-05 -1.07090561e-02 -1.11622452e-03  2.51011157e-01\n",
      "  -1.37748056e-01  9.58047494e-01  2.69780515e-03  4.02938173e-03\n",
      "   7.67513474e-04  4.88223789e-03 -8.39496051e-18]\n",
      " [ 9.99999953e-01  2.38584117e-05 -2.74485409e-05  2.59346250e-04\n",
      "   1.58488826e-04  8.65853843e-07  1.45824495e-06 -8.85583241e-06\n",
      "  -5.37300962e-07  6.15882883e-06  3.05489937e-21]\n",
      " [-5.18038103e-06  1.56667560e-04 -7.87987473e-03  1.07271554e-03\n",
      "   3.07219058e-03 -3.54498883e-03  4.66718468e-03  1.73472548e-02\n",
      "   1.34964851e-02  7.06689367e-01  7.07106781e-01]\n",
      " [ 5.18038103e-06 -1.56667560e-04  7.87987473e-03 -1.07271554e-03\n",
      "  -3.07219058e-03  3.54498883e-03 -4.66718468e-03 -1.73472548e-02\n",
      "  -1.34964851e-02 -7.06689367e-01  7.07106781e-01]]\n"
     ]
    }
   ],
   "source": [
    "# Calculating the eigen values and eigen vectors \n",
    "from numpy.linalg import eig\n",
    "\n",
    "w , v = eig(covariance_matrix)\n",
    "print('E-value' , w)\n",
    "print('E-vector' , v)"
   ]
  },
  {
   "cell_type": "code",
   "execution_count": null,
   "id": "orange-concentration",
   "metadata": {},
   "outputs": [],
   "source": []
  },
  {
   "cell_type": "code",
   "execution_count": 31,
   "id": "entitled-monitor",
   "metadata": {},
   "outputs": [],
   "source": [
    "# Saving the dataframe into new dataset\n",
    "\n",
    "df.to_csv('Cleaned_DataFrame.csv' , index = False)"
   ]
  },
  {
   "cell_type": "markdown",
   "id": "stable-investigator",
   "metadata": {},
   "source": [
    "# Model Building Phase"
   ]
  },
  {
   "cell_type": "code",
   "execution_count": 32,
   "id": "historic-exception",
   "metadata": {},
   "outputs": [],
   "source": [
    "x = df.drop(['Purchase'] , axis = 1)\n",
    "y = df['Purchase']\n"
   ]
  },
  {
   "cell_type": "code",
   "execution_count": 33,
   "id": "australian-harbor",
   "metadata": {},
   "outputs": [],
   "source": [
    "# Scaling our data to appropriate scale\n",
    "\n",
    "from sklearn.preprocessing import StandardScaler\n",
    "scaler = StandardScaler()"
   ]
  },
  {
   "cell_type": "code",
   "execution_count": 34,
   "id": "blond-greek",
   "metadata": {},
   "outputs": [],
   "source": [
    "df_scale = scaler.fit_transform(x)\n",
    "x = pd.DataFrame(df_scale , columns = x.columns)"
   ]
  },
  {
   "cell_type": "code",
   "execution_count": 35,
   "id": "expensive-killing",
   "metadata": {},
   "outputs": [
    {
     "data": {
      "text/html": [
       "<div>\n",
       "<style scoped>\n",
       "    .dataframe tbody tr th:only-of-type {\n",
       "        vertical-align: middle;\n",
       "    }\n",
       "\n",
       "    .dataframe tbody tr th {\n",
       "        vertical-align: top;\n",
       "    }\n",
       "\n",
       "    .dataframe thead th {\n",
       "        text-align: right;\n",
       "    }\n",
       "</style>\n",
       "<table border=\"1\" class=\"dataframe\">\n",
       "  <thead>\n",
       "    <tr style=\"text-align: right;\">\n",
       "      <th></th>\n",
       "      <th>Age</th>\n",
       "      <th>Occupation</th>\n",
       "      <th>City_Category</th>\n",
       "      <th>Stay_In_Current_City_Years</th>\n",
       "      <th>Marital_Status</th>\n",
       "      <th>Product_Category_1</th>\n",
       "      <th>Product_Category_2</th>\n",
       "      <th>Product_Category_3</th>\n",
       "      <th>F</th>\n",
       "      <th>M</th>\n",
       "    </tr>\n",
       "  </thead>\n",
       "  <tbody>\n",
       "    <tr>\n",
       "      <th>0</th>\n",
       "      <td>-2.106112</td>\n",
       "      <td>0.294864</td>\n",
       "      <td>-1.371516</td>\n",
       "      <td>-0.007947</td>\n",
       "      <td>-0.833018</td>\n",
       "      <td>-0.610809</td>\n",
       "      <td>-0.136401</td>\n",
       "      <td>0.171658</td>\n",
       "      <td>1.746513</td>\n",
       "      <td>-1.746513</td>\n",
       "    </tr>\n",
       "    <tr>\n",
       "      <th>1</th>\n",
       "      <td>-2.106112</td>\n",
       "      <td>0.294864</td>\n",
       "      <td>-1.371516</td>\n",
       "      <td>-0.007947</td>\n",
       "      <td>-0.833018</td>\n",
       "      <td>-1.118912</td>\n",
       "      <td>-0.846289</td>\n",
       "      <td>0.171658</td>\n",
       "      <td>1.746513</td>\n",
       "      <td>-1.746513</td>\n",
       "    </tr>\n",
       "    <tr>\n",
       "      <th>2</th>\n",
       "      <td>-2.106112</td>\n",
       "      <td>0.294864</td>\n",
       "      <td>-1.371516</td>\n",
       "      <td>-0.007947</td>\n",
       "      <td>-0.833018</td>\n",
       "      <td>1.675656</td>\n",
       "      <td>-0.136401</td>\n",
       "      <td>0.171658</td>\n",
       "      <td>1.746513</td>\n",
       "      <td>-1.746513</td>\n",
       "    </tr>\n",
       "    <tr>\n",
       "      <th>3</th>\n",
       "      <td>-2.106112</td>\n",
       "      <td>0.294864</td>\n",
       "      <td>-1.371516</td>\n",
       "      <td>-0.007947</td>\n",
       "      <td>-0.833018</td>\n",
       "      <td>1.675656</td>\n",
       "      <td>1.046745</td>\n",
       "      <td>0.171658</td>\n",
       "      <td>1.746513</td>\n",
       "      <td>-1.746513</td>\n",
       "    </tr>\n",
       "    <tr>\n",
       "      <th>4</th>\n",
       "      <td>1.775464</td>\n",
       "      <td>1.214734</td>\n",
       "      <td>1.259336</td>\n",
       "      <td>1.907631</td>\n",
       "      <td>-0.833018</td>\n",
       "      <td>0.659449</td>\n",
       "      <td>-0.136401</td>\n",
       "      <td>0.171658</td>\n",
       "      <td>-0.572570</td>\n",
       "      <td>0.572570</td>\n",
       "    </tr>\n",
       "  </tbody>\n",
       "</table>\n",
       "</div>"
      ],
      "text/plain": [
       "        Age  Occupation  City_Category  Stay_In_Current_City_Years  \\\n",
       "0 -2.106112    0.294864      -1.371516                   -0.007947   \n",
       "1 -2.106112    0.294864      -1.371516                   -0.007947   \n",
       "2 -2.106112    0.294864      -1.371516                   -0.007947   \n",
       "3 -2.106112    0.294864      -1.371516                   -0.007947   \n",
       "4  1.775464    1.214734       1.259336                    1.907631   \n",
       "\n",
       "   Marital_Status  Product_Category_1  Product_Category_2  Product_Category_3  \\\n",
       "0       -0.833018           -0.610809           -0.136401            0.171658   \n",
       "1       -0.833018           -1.118912           -0.846289            0.171658   \n",
       "2       -0.833018            1.675656           -0.136401            0.171658   \n",
       "3       -0.833018            1.675656            1.046745            0.171658   \n",
       "4       -0.833018            0.659449           -0.136401            0.171658   \n",
       "\n",
       "          F         M  \n",
       "0  1.746513 -1.746513  \n",
       "1  1.746513 -1.746513  \n",
       "2  1.746513 -1.746513  \n",
       "3  1.746513 -1.746513  \n",
       "4 -0.572570  0.572570  "
      ]
     },
     "execution_count": 35,
     "metadata": {},
     "output_type": "execute_result"
    }
   ],
   "source": [
    "x.head()"
   ]
  },
  {
   "cell_type": "code",
   "execution_count": 36,
   "id": "reported-timer",
   "metadata": {},
   "outputs": [
    {
     "data": {
      "text/plain": [
       "((412551, 10), (412551,), (137517, 10), (137517,))"
      ]
     },
     "execution_count": 36,
     "metadata": {},
     "output_type": "execute_result"
    }
   ],
   "source": [
    "# Now splitting the data into train and test datasets.\n",
    "\n",
    "from sklearn.model_selection import train_test_split\n",
    "train_x , test_x , train_y , test_y = train_test_split(x , y , random_state = 100)\n",
    "train_x.shape , train_y.shape , test_x.shape , test_y.shape"
   ]
  },
  {
   "cell_type": "markdown",
   "id": "organized-backup",
   "metadata": {},
   "source": [
    "# Creating a Random Forest Model for predicting our data."
   ]
  },
  {
   "cell_type": "code",
   "execution_count": 37,
   "id": "horizontal-brick",
   "metadata": {},
   "outputs": [],
   "source": [
    "from sklearn.ensemble import RandomForestRegressor\n",
    "rf_model = RandomForestRegressor(random_state = 100)"
   ]
  },
  {
   "cell_type": "code",
   "execution_count": 38,
   "id": "attractive-supply",
   "metadata": {},
   "outputs": [
    {
     "data": {
      "text/plain": [
       "RandomForestRegressor(random_state=100)"
      ]
     },
     "execution_count": 38,
     "metadata": {},
     "output_type": "execute_result"
    }
   ],
   "source": [
    "rf_model.fit(train_x , train_y)"
   ]
  },
  {
   "cell_type": "code",
   "execution_count": 39,
   "id": "blessed-allowance",
   "metadata": {},
   "outputs": [],
   "source": [
    "# predicting on test data\n",
    "\n",
    "from sklearn.metrics import mean_squared_error as mse\n",
    "pred = rf_model.predict(test_x)"
   ]
  },
  {
   "cell_type": "code",
   "execution_count": 40,
   "id": "exceptional-abortion",
   "metadata": {},
   "outputs": [
    {
     "name": "stdout",
     "output_type": "stream",
     "text": [
      "RMSE of our test data is:  3061.2378939605396\n"
     ]
    }
   ],
   "source": [
    "error = np.sqrt(mse(pred , test_y))\n",
    "print('RMSE of our test data is: ' , error)"
   ]
  },
  {
   "cell_type": "code",
   "execution_count": 41,
   "id": "several-cartridge",
   "metadata": {},
   "outputs": [
    {
     "name": "stdout",
     "output_type": "stream",
     "text": [
      "RMSE of our train data is: 2302.5391451434007\n"
     ]
    }
   ],
   "source": [
    "pred2 = rf_model.predict(train_x)\n",
    "error2 = np.sqrt(mse(pred2 , train_y))\n",
    "print('RMSE of our train data is:' ,error2)"
   ]
  },
  {
   "cell_type": "code",
   "execution_count": null,
   "id": "alert-fitting",
   "metadata": {},
   "outputs": [],
   "source": []
  },
  {
   "cell_type": "code",
   "execution_count": 50,
   "id": "collectible-replication",
   "metadata": {},
   "outputs": [],
   "source": [
    "# Let's fix our Random Forest Model to best Hyperparamters."
   ]
  },
  {
   "cell_type": "code",
   "execution_count": 42,
   "id": "cathedral-darkness",
   "metadata": {},
   "outputs": [
    {
     "name": "stdout",
     "output_type": "stream",
     "text": [
      "Hyperparameters of our model is: \n",
      "\n",
      "{'bootstrap': True,\n",
      " 'ccp_alpha': 0.0,\n",
      " 'criterion': 'mse',\n",
      " 'max_depth': None,\n",
      " 'max_features': 'auto',\n",
      " 'max_leaf_nodes': None,\n",
      " 'max_samples': None,\n",
      " 'min_impurity_decrease': 0.0,\n",
      " 'min_impurity_split': None,\n",
      " 'min_samples_leaf': 1,\n",
      " 'min_samples_split': 2,\n",
      " 'min_weight_fraction_leaf': 0.0,\n",
      " 'n_estimators': 100,\n",
      " 'n_jobs': None,\n",
      " 'oob_score': False,\n",
      " 'random_state': 100,\n",
      " 'verbose': 0,\n",
      " 'warm_start': False}\n"
     ]
    }
   ],
   "source": [
    "from pprint import pprint\n",
    "print('Hyperparameters of our model is: \\n')\n",
    "pprint(rf_model.get_params())"
   ]
  },
  {
   "cell_type": "markdown",
   "id": "federal-paraguay",
   "metadata": {},
   "source": [
    "# Importing Randomized Search CV to tune the Random Forest Model"
   ]
  },
  {
   "cell_type": "code",
   "execution_count": 43,
   "id": "bigger-abuse",
   "metadata": {},
   "outputs": [],
   "source": [
    "parameter_grid = {\n",
    "    'max_depth': [2,3,4,5,6],\n",
    "    'min_samples_split': [2,3,4],\n",
    "    'n_estimators': [100 , 150 , 200]\n",
    "}"
   ]
  },
  {
   "cell_type": "code",
   "execution_count": 45,
   "id": "chemical-gothic",
   "metadata": {},
   "outputs": [],
   "source": [
    "from sklearn.model_selection import RandomizedSearchCV\n",
    "randomsearch = RandomizedSearchCV(estimator = rf_model , param_distributions = parameter_grid , n_iter = 10 , cv = 5)"
   ]
  },
  {
   "cell_type": "code",
   "execution_count": 46,
   "id": "adjustable-scholar",
   "metadata": {},
   "outputs": [
    {
     "data": {
      "text/plain": [
       "RandomizedSearchCV(cv=5, estimator=RandomForestRegressor(random_state=100),\n",
       "                   param_distributions={'max_depth': [2, 3, 4, 5, 6],\n",
       "                                        'min_samples_split': [2, 3, 4],\n",
       "                                        'n_estimators': [100, 150, 200]})"
      ]
     },
     "execution_count": 46,
     "metadata": {},
     "output_type": "execute_result"
    }
   ],
   "source": [
    "randomsearch.fit(train_x , train_y)"
   ]
  },
  {
   "cell_type": "code",
   "execution_count": 47,
   "id": "statistical-river",
   "metadata": {},
   "outputs": [
    {
     "data": {
      "text/plain": [
       "{'n_estimators': 100, 'min_samples_split': 4, 'max_depth': 6}"
      ]
     },
     "execution_count": 47,
     "metadata": {},
     "output_type": "execute_result"
    }
   ],
   "source": [
    "randomsearch.best_params_"
   ]
  },
  {
   "cell_type": "code",
   "execution_count": null,
   "id": "impossible-uncle",
   "metadata": {},
   "outputs": [],
   "source": []
  },
  {
   "cell_type": "code",
   "execution_count": 48,
   "id": "compliant-centre",
   "metadata": {},
   "outputs": [
    {
     "data": {
      "text/plain": [
       "RandomForestRegressor(max_depth=6, min_samples_split=4, random_state=100)"
      ]
     },
     "execution_count": 48,
     "metadata": {},
     "output_type": "execute_result"
    }
   ],
   "source": [
    "rf_model = RandomForestRegressor(n_estimators = 100 , min_samples_split = 4 , max_depth = 6 , random_state = 100)\n",
    "rf_model.fit(train_x , train_y)"
   ]
  },
  {
   "cell_type": "code",
   "execution_count": 49,
   "id": "infectious-nursery",
   "metadata": {},
   "outputs": [
    {
     "name": "stdout",
     "output_type": "stream",
     "text": [
      "RMSE after hyperparameter tuning is:  2997.675063554539\n"
     ]
    }
   ],
   "source": [
    "test_pred = rf_model.predict(test_x)\n",
    "error = np.sqrt(mse(test_pred , test_y))\n",
    "print('RMSE after hyperparameter tuning is: ' , error)"
   ]
  },
  {
   "cell_type": "code",
   "execution_count": 51,
   "id": "african-sleeve",
   "metadata": {},
   "outputs": [],
   "source": [
    "# We have reduced the errors of our model using hyperparameter tuning."
   ]
  },
  {
   "cell_type": "markdown",
   "id": "further-citation",
   "metadata": {},
   "source": [
    "# Lets apply PCA model to our data  and see the essential features required in our dataset for a good accuracy."
   ]
  },
  {
   "cell_type": "code",
   "execution_count": 52,
   "id": "integrated-ocean",
   "metadata": {},
   "outputs": [],
   "source": [
    "from sklearn.decomposition import PCA\n",
    "pca = PCA().fit(x)"
   ]
  },
  {
   "cell_type": "code",
   "execution_count": 53,
   "id": "stopped-cradle",
   "metadata": {},
   "outputs": [
    {
     "data": {
      "image/png": "[encoded data removed]",
      "text/plain": [
       "<Figure size 432x288 with 1 Axes>"
      ]
     },
     "metadata": {
      "needs_background": "light"
     },
     "output_type": "display_data"
    }
   ],
   "source": [
    "# plotting the cummulative summation of the explained variance\n",
    "plt.figure()\n",
    "plt.plot(np.cumsum(pca.explained_variance_ratio_)*100)\n",
    "plt.xlabel('Number of Components')\n",
    "plt.ylabel('Variance (%)')\n",
    "plt.title('Explained Variance')\n",
    "\n",
    "# Plotting a line at 95% variance to evaluate the number of components required.\n",
    "plt.axhline(y = 95 , color = 'r' , linestyle = '--')\n",
    "plt.show()"
   ]
  },
  {
   "cell_type": "code",
   "execution_count": 54,
   "id": "bottom-capitol",
   "metadata": {},
   "outputs": [],
   "source": [
    "# from the plot above we can see that , to preserve 95% of the data , we need a min of 7 components.\n",
    "# to be absolutely safe , we will take 8 components for ourselves."
   ]
  },
  {
   "cell_type": "code",
   "execution_count": 55,
   "id": "nervous-details",
   "metadata": {},
   "outputs": [],
   "source": [
    "# Transforming the original train and validation set\n",
    "pca = PCA(8).fit(train_x)\n",
    "# Transforming both train and validation set\n",
    "x_train_transformed = pca.fit_transform(train_x)\n",
    "x_test_transformed = pca.fit_transform(test_x)"
   ]
  },
  {
   "cell_type": "code",
   "execution_count": 56,
   "id": "difficult-observation",
   "metadata": {},
   "outputs": [
    {
     "data": {
      "text/plain": [
       "(412551, 8)"
      ]
     },
     "execution_count": 56,
     "metadata": {},
     "output_type": "execute_result"
    }
   ],
   "source": [
    "x_train_transformed.shape"
   ]
  },
  {
   "cell_type": "code",
   "execution_count": 57,
   "id": "checked-footage",
   "metadata": {},
   "outputs": [
    {
     "data": {
      "text/plain": [
       "RandomForestRegressor(random_state=100)"
      ]
     },
     "execution_count": 57,
     "metadata": {},
     "output_type": "execute_result"
    }
   ],
   "source": [
    "model_pca = RandomForestRegressor(random_state = 100)\n",
    "model_pca.fit(x_train_transformed , train_y)"
   ]
  },
  {
   "cell_type": "code",
   "execution_count": 58,
   "id": "registered-sixth",
   "metadata": {},
   "outputs": [],
   "source": [
    "pred_x = model_pca.predict(x_test_transformed)"
   ]
  },
  {
   "cell_type": "code",
   "execution_count": 59,
   "id": "worse-patient",
   "metadata": {},
   "outputs": [
    {
     "name": "stdout",
     "output_type": "stream",
     "text": [
      "RMSE of model after PCA is:  3198.02587377774\n"
     ]
    }
   ],
   "source": [
    "error = np.sqrt(mse(pred_x , test_y))\n",
    "print('RMSE of model after PCA is: ' , error)"
   ]
  },
  {
   "cell_type": "code",
   "execution_count": 60,
   "id": "placed-cambodia",
   "metadata": {},
   "outputs": [],
   "source": [
    "# This is acually great error value for our model , considering we only have 8 columns in our dataset , than the earlier 11 columns."
   ]
  },
  {
   "cell_type": "code",
   "execution_count": null,
   "id": "geographic-plasma",
   "metadata": {},
   "outputs": [],
   "source": []
  }
 ],
 "metadata": {
  "kernelspec": {
   "display_name": "Python 3",
   "language": "python",
   "name": "python3"
  },
  "language_info": {
   "codemirror_mode": {
    "name": "ipython",
    "version": 3
   },
   "file_extension": ".py",
   "mimetype": "text/x-python",
   "name": "python",
   "nbconvert_exporter": "python",
   "pygments_lexer": "ipython3",
   "version": "3.7.3"
  }
 },
 "nbformat": 4,
 "nbformat_minor": 5
}
